{
 "cells": [
  {
   "cell_type": "code",
   "execution_count": 3,
   "metadata": {},
   "outputs": [],
   "source": [
    "# importing packages\n",
    "import numpy as np\n",
    "import pandas as pd"
   ]
  },
  {
   "cell_type": "code",
   "execution_count": 4,
   "metadata": {},
   "outputs": [],
   "source": [
    "# opening files\n",
    "train_data = np.genfromtxt('3_train.csv', delimiter=\",\")\n",
    "x_test = np.genfromtxt('3_test.csv', delimiter= \",\")"
   ]
  },
  {
   "cell_type": "code",
   "execution_count": 5,
   "metadata": {},
   "outputs": [],
   "source": [
    "x_train = train_data[:,0:4]\n",
    "y_train = train_data[:,-1]\n",
    "\n",
    "\n",
    "# feature Scaling\n",
    "\n",
    "from sklearn import preprocessing \n",
    "scaler = preprocessing.MinMaxScaler(feature_range = (0 ,1))\n",
    "X_train = scaler.fit_transform(x_train)\n",
    "X_train = np.c_[X_train , np.ones(len(X_train))]\n",
    "\n",
    "X_test = scaler.transform(x_test)\n",
    "X_test = np.c_[X_test , np.ones(len(X_test))]"
   ]
  },
  {
   "cell_type": "code",
   "execution_count": 12,
   "metadata": {},
   "outputs": [],
   "source": [
    "def run(X_train , Y_train) :\n",
    "    learning_rate = 0.0001 \n",
    "    iterations = 2000 \n",
    "    m = gd(X_train , y_train ,learning_rate ,  iterations)\n",
    "    return m    "
   ]
  },
  {
   "cell_type": "code",
   "execution_count": 7,
   "metadata": {},
   "outputs": [],
   "source": [
    "def gd(X ,Y , learning_rate , iterations) :\n",
    "    m = np.zeros(5)\n",
    "    for k in range(iterations) :\n",
    "        m = step_gradient(X ,Y , learning_rate , m)\n",
    "        if k%100==0:\n",
    "            print( k , \" Cost : \" ,cost(X , Y , m)  )\n",
    "    return m "
   ]
  },
  {
   "cell_type": "code",
   "execution_count": 8,
   "metadata": {},
   "outputs": [],
   "source": [
    "def step_gradient(X ,Y ,learning_rate , m) :\n",
    "    M = len(X)\n",
    "    m_slope = 0 \n",
    "    for j in range(5) :\n",
    "        for i in range(M) : \n",
    "            m_slope += (-2) * ((Y[i] - sm(X , m , i )) * X[i][j]).mean()\n",
    "        m[j] = m[j] - learning_rate * m_slope\n",
    "    return m \n",
    "\n",
    "def sm(X , m ,  i ) :\n",
    "    s = 0 \n",
    "    for k in range(5) :\n",
    "        s += m[k]*X[i][k] \n",
    "    return s\n",
    "\n",
    "def cost(X , Y , m) :\n",
    "    X_M = np.matmul(X , m)\n",
    "    return ((Y - X_M)**2).mean()\n",
    "\n",
    "def predict(X , m ) :\n",
    "    Y = np.zeros(len(X))\n",
    "    for i in range(len(X)) :\n",
    "        Y[i] = sm(X , m  , i)\n",
    "    return Y"
   ]
  },
  {
   "cell_type": "code",
   "execution_count": 15,
   "metadata": {
    "scrolled": false
   },
   "outputs": [
    {
     "name": "stdout",
     "output_type": "stream",
     "text": [
      "0  Cost :  39980.973607920416\n",
      "100  Cost :  107.45636739319188\n",
      "200  Cost :  49.58110746513315\n",
      "300  Cost :  31.34630247901886\n",
      "400  Cost :  24.716951193203577\n",
      "500  Cost :  22.299696822907173\n",
      "600  Cost :  21.418015657882755\n",
      "700  Cost :  21.09641487762511\n",
      "800  Cost :  20.979107758046187\n",
      "900  Cost :  20.93631878913538\n",
      "1000  Cost :  20.920711075512326\n",
      "1100  Cost :  20.915018002471946\n",
      "1200  Cost :  20.912941395902003\n",
      "1300  Cost :  20.91218393243438\n",
      "1400  Cost :  20.91190763989392\n",
      "1500  Cost :  20.911806859366298\n",
      "1600  Cost :  20.911770098638964\n",
      "1700  Cost :  20.911756689788\n",
      "1800  Cost :  20.911751798772578\n",
      "1900  Cost :  20.911750014724714\n"
     ]
    }
   ],
   "source": [
    "# cofficent 'm'\n",
    "m = run(X_train , y_train)"
   ]
  },
  {
   "cell_type": "code",
   "execution_count": 16,
   "metadata": {},
   "outputs": [],
   "source": [
    "# predicting\n",
    "Y_pred = predict(X_test , m )"
   ]
  },
  {
   "cell_type": "code",
   "execution_count": 17,
   "metadata": {},
   "outputs": [],
   "source": [
    "# Saving file\n",
    "np.savetxt(\"3_Predict.csv\" , Y_pred)"
   ]
  }
 ],
 "metadata": {
  "kernelspec": {
   "display_name": "Python 3",
   "language": "python",
   "name": "python3"
  },
  "language_info": {
   "codemirror_mode": {
    "name": "ipython",
    "version": 3
   },
   "file_extension": ".py",
   "mimetype": "text/x-python",
   "name": "python",
   "nbconvert_exporter": "python",
   "pygments_lexer": "ipython3",
   "version": "3.8.5"
  },
  "toc": {
   "base_numbering": 1,
   "nav_menu": {},
   "number_sections": true,
   "sideBar": true,
   "skip_h1_title": false,
   "title_cell": "Table of Contents",
   "title_sidebar": "Contents",
   "toc_cell": false,
   "toc_position": {},
   "toc_section_display": true,
   "toc_window_display": false
  }
 },
 "nbformat": 4,
 "nbformat_minor": 2
}
