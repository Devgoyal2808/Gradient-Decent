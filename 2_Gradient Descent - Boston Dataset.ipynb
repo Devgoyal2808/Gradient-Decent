{
 "cells": [
  {
   "cell_type": "code",
   "execution_count": 1,
   "metadata": {},
   "outputs": [],
   "source": [
    "# importing packages\n",
    "import numpy as np\n",
    "import pandas as pd"
   ]
  },
  {
   "cell_type": "code",
   "execution_count": 2,
   "metadata": {},
   "outputs": [],
   "source": [
    "# opening files\n",
    "train_data = np.genfromtxt('2_train.csv', delimiter=\",\")\n",
    "x_test = np.genfromtxt('2_test.csv', delimiter= \",\")"
   ]
  },
  {
   "cell_type": "code",
   "execution_count": 3,
   "metadata": {},
   "outputs": [],
   "source": [
    "x_train = train_data[:,0:13]\n",
    "y_train = train_data[:,-1]\n",
    "\n",
    "\n",
    "# feature Scaling\n",
    "\n",
    "from sklearn import preprocessing \n",
    "scaler = preprocessing.MinMaxScaler(feature_range = (0 ,1))\n",
    "X_train = scaler.fit_transform(x_train)\n",
    "X_train = np.c_[X_train , np.ones(len(X_train))]\n",
    "\n",
    "X_test = scaler.transform(x_test)\n",
    "X_test = np.c_[X_test , np.ones(len(X_test))]"
   ]
  },
  {
   "cell_type": "code",
   "execution_count": 4,
   "metadata": {},
   "outputs": [],
   "source": [
    "def run(X_train , Y_train) :\n",
    "    learning_rate = 0.00022 \n",
    "    iterations = 2000 \n",
    "    m = gd(X_train , y_train ,learning_rate ,  iterations)\n",
    "    return m    "
   ]
  },
  {
   "cell_type": "code",
   "execution_count": 5,
   "metadata": {},
   "outputs": [],
   "source": [
    "def gd(X ,Y , learning_rate , iterations) :\n",
    "    m = np.zeros(14)\n",
    "    for k in range(iterations) :\n",
    "        m = step_gradient(X ,Y , learning_rate , m)\n",
    "        if k%100==0:\n",
    "            print( k , \" Cost : \" ,cost(X , Y , m)  )\n",
    "    return m "
   ]
  },
  {
   "cell_type": "code",
   "execution_count": 6,
   "metadata": {},
   "outputs": [],
   "source": [
    "def step_gradient(X ,Y ,learning_rate , m) :\n",
    "    M = len(X)\n",
    "    m_slope = 0 \n",
    "    for j in range(14) :\n",
    "        for i in range(M) : \n",
    "            m_slope += (-2) * ((Y[i] - sm(X , m , i )) * X[i][j]).mean()\n",
    "        m[j] = m[j] - learning_rate * m_slope\n",
    "    return m \n",
    "\n",
    "def sm(X , m ,  i ) :\n",
    "    s = 0 \n",
    "    for k in range(14) :\n",
    "        s += m[k]*X[i][k] \n",
    "    return s\n",
    "\n",
    "def cost(X , Y , m) :\n",
    "    X_M = np.matmul(X , m)\n",
    "    return ((Y - X_M)**2).mean()\n",
    "\n",
    "def predict(X , m ) :\n",
    "    Y = np.zeros(len(X))\n",
    "    for i in range(len(X)) :\n",
    "        Y[i] = sm(X , m  , i)\n",
    "    return Y"
   ]
  },
  {
   "cell_type": "code",
   "execution_count": 7,
   "metadata": {
    "scrolled": false
   },
   "outputs": [
    {
     "name": "stdout",
     "output_type": "stream",
     "text": [
      "0  Cost :  529.138887164487\n",
      "100  Cost :  46.31063915475139\n",
      "200  Cost :  39.49666705579928\n",
      "300  Cost :  35.2118267261507\n",
      "400  Cost :  32.24448001750256\n",
      "500  Cost :  30.258603503695355\n",
      "600  Cost :  28.83969304335368\n",
      "700  Cost :  27.756322330274067\n",
      "800  Cost :  26.906488348456183\n",
      "900  Cost :  26.238373073487885\n",
      "1000  Cost :  25.71494657452607\n",
      "1100  Cost :  25.305160862748146\n",
      "1200  Cost :  24.983365174654995\n",
      "1300  Cost :  24.729151412894236\n",
      "1400  Cost :  24.52662244548504\n",
      "1500  Cost :  24.363567410185098\n",
      "1600  Cost :  24.230741773915064\n",
      "1700  Cost :  24.121240746872907\n",
      "1800  Cost :  24.02995148981547\n",
      "1900  Cost :  23.95309360861114\n"
     ]
    }
   ],
   "source": [
    "# cofficent 'm'\n",
    "m = run(X_train , y_train)"
   ]
  },
  {
   "cell_type": "code",
   "execution_count": 8,
   "metadata": {},
   "outputs": [],
   "source": [
    "# predicting\n",
    "Y_pred = predict(X_test , m )"
   ]
  },
  {
   "cell_type": "code",
   "execution_count": 9,
   "metadata": {},
   "outputs": [],
   "source": [
    "# Saving file\n",
    "np.savetxt(\"2_Predict.csv\" , Y_pred)"
   ]
  }
 ],
 "metadata": {
  "kernelspec": {
   "display_name": "Python 3",
   "language": "python",
   "name": "python3"
  },
  "language_info": {
   "codemirror_mode": {
    "name": "ipython",
    "version": 3
   },
   "file_extension": ".py",
   "mimetype": "text/x-python",
   "name": "python",
   "nbconvert_exporter": "python",
   "pygments_lexer": "ipython3",
   "version": "3.8.5"
  },
  "toc": {
   "base_numbering": 1,
   "nav_menu": {},
   "number_sections": true,
   "sideBar": true,
   "skip_h1_title": false,
   "title_cell": "Table of Contents",
   "title_sidebar": "Contents",
   "toc_cell": false,
   "toc_position": {},
   "toc_section_display": true,
   "toc_window_display": false
  }
 },
 "nbformat": 4,
 "nbformat_minor": 2
}
